{
  "nbformat": 4,
  "nbformat_minor": 0,
  "metadata": {
    "colab": {
      "provenance": []
    },
    "kernelspec": {
      "name": "python3",
      "display_name": "Python 3"
    },
    "language_info": {
      "name": "python"
    }
  },
  "cells": [
    {
      "cell_type": "code",
      "execution_count": null,
      "metadata": {
        "id": "9UJD1yBe-vVT"
      },
      "outputs": [],
      "source": [
        "## library\n",
        "import pandas as pd\n",
        "import tensorflow as tf\n",
        "from tensorflow import keras\n",
        "from sklearn.preprocessing import StandardScaler, MinMaxScaler\n",
        "from sklearn.model_selection import train_test_split"
      ]
    },
    {
      "cell_type": "markdown",
      "source": [
        "# Data Calculation"
      ],
      "metadata": {
        "id": "YFe6OSuOAgqm"
      }
    },
    {
      "cell_type": "markdown",
      "source": [
        "## Total Calories"
      ],
      "metadata": {
        "id": "J-IhIf7b0SO4"
      }
    },
    {
      "cell_type": "code",
      "source": [
        "def calorie(gender, weight, height, age, activities):\n",
        "  #for male\n",
        "  if gender == 0:\n",
        "    cal = 66+(13.7*weight)+(5*height)-(6.8*age)\n",
        "  #for female\n",
        "  elif gender == 1:\n",
        "    cal = 655+(9.6*weight)+(1.8*height)-(4.7*age)\n",
        "  #activities\n",
        "  ##sgt jarang olahraga\n",
        "  if activities == 1:\n",
        "    tot_cal = cal*1.2\n",
        "  ##jarang olahraga\n",
        "  elif activities == 2:\n",
        "    tot_cal = cal*1.375\n",
        "  ##cukup olahraga\n",
        "  elif activities == 3:\n",
        "    tot_cal = cal*1.55\n",
        "  ##sering olahraga\n",
        "  elif activities == 4:\n",
        "    tot_cal = cal*1.725\n",
        "  ##sangat sering olahraga\n",
        "  elif activities == 5:\n",
        "    tot_cal = cal*1.9\n",
        "  return round(tot_cal,2)"
      ],
      "metadata": {
        "id": "bxWF2oYzAgMQ"
      },
      "execution_count": null,
      "outputs": []
    },
    {
      "cell_type": "markdown",
      "source": [
        "## Calorie each meal"
      ],
      "metadata": {
        "id": "eUmAUqKG0XzR"
      }
    },
    {
      "cell_type": "code",
      "source": [
        "def cal_each_meal(tot_cal, tot_meals):\n",
        "  # meals: breakfast, lunch, dinner\n",
        "  if tot_meals == 3:\n",
        "    breakfast_cal = round(tot_cal*0.3,2)\n",
        "    lunch_cal = round(tot_cal*0.4,2)\n",
        "    dinner_cal = round(tot_cal*0.3,2)\n",
        "  # meals: breakfast, lunch, dinner, snack\n",
        "  #elif tot_meals == 4:\n",
        "    #breakfast_cal = round(tot_cal*0.25,2)\n",
        "    #lunch_cal = round(tot_cal*0.4,2)\n",
        "    #dinner_cal = round(tot_cal*0.25,2)\n",
        "    #snack_cal = round(tot_cal*0.1,2)\n",
        "  return breakfast_cal, lunch_cal, dinner_cal"
      ],
      "metadata": {
        "id": "AAk0lbqavQnm"
      },
      "execution_count": null,
      "outputs": []
    },
    {
      "cell_type": "markdown",
      "source": [
        "## Nutrition needs each meal"
      ],
      "metadata": {
        "id": "cf2z-RVa0dlD"
      }
    },
    {
      "cell_type": "code",
      "source": [
        "def nutrition_needs(breakfast, lunch, dinner):\n",
        "  meals = [breakfast, lunch, dinner]\n",
        "  carbohydrates = []\n",
        "  fats = []\n",
        "  proteins = []\n",
        "  for meal in meals:\n",
        "    carbohydrate = round((meal*0.65)/4,2) #dibagi 4, calorie ke gram\n",
        "    carbohydrates.append(carbohydrate)\n",
        "    fat = round((meal*0.2)/9,2) #dibagi 9, calorie ke gram\n",
        "    fats.append(fat)\n",
        "    protein = round((meal*0.15)/4,2) #dibagi 4, calorie ke gram\n",
        "    proteins.append(protein)\n",
        "  ## making dataframe\n",
        "  y_train = pd.DataFrame(meals, columns=['calorie'])\n",
        "  user_train = pd.DataFrame({'carbohydrate':carbohydrates,\n",
        "                             'fat':fats,\n",
        "                             'protein':proteins})\n",
        "  return y_train, user_train"
      ],
      "metadata": {
        "id": "AFOKIqlIyU7U"
      },
      "execution_count": null,
      "outputs": []
    },
    {
      "cell_type": "markdown",
      "source": [
        "# Data Collection"
      ],
      "metadata": {
        "id": "xQfU8hxq41uM"
      }
    },
    {
      "cell_type": "code",
      "source": [
        "# syntax import data\n",
        "## data user --> y_train dan user_train\n",
        "## data food --> food_train"
      ],
      "metadata": {
        "id": "0v_FToW645i5"
      },
      "execution_count": null,
      "outputs": []
    },
    {
      "cell_type": "markdown",
      "source": [
        "## calculation from the data user"
      ],
      "metadata": {
        "id": "6MY7dqqwHaDB"
      }
    },
    {
      "cell_type": "code",
      "source": [
        "tot_cal = calorie(gender, weight, height, age, activities)\n",
        "breakfast, lunch, dinner, snack = cal_each_meal(tot_cal, tot_meals)\n",
        "y_train, user_train = nutrition_needs(breakfast, lunch, dinner, snack)"
      ],
      "metadata": {
        "id": "_1A9lB3YHdVM"
      },
      "execution_count": null,
      "outputs": []
    },
    {
      "cell_type": "markdown",
      "source": [
        " # Preparing Data"
      ],
      "metadata": {
        "id": "wUjJJzCP5F2t"
      }
    },
    {
      "cell_type": "markdown",
      "source": [
        "## Scaling"
      ],
      "metadata": {
        "id": "pcM2c9Ua6rI4"
      }
    },
    {
      "cell_type": "code",
      "source": [
        "# scale training data\n",
        "item_train_unscaled = food_train\n",
        "user_train_unscaled = user_train\n",
        "y_train_unscaled    = y_train\n",
        "\n",
        "scalerItem = StandardScaler()\n",
        "scalerItem.fit(food_train)\n",
        "item_train = scalerItem.transform(food_train)\n",
        "\n",
        "scalerUser = StandardScaler()\n",
        "scalerUser.fit(user_train)\n",
        "user_train = scalerUser.transform(user_train)\n",
        "\n",
        "scalerTarget = MinMaxScaler((-1, 1))\n",
        "scalerTarget.fit(y_train.reshape(-1, 1))\n",
        "y_train = scalerTarget.transform(y_train.reshape(-1, 1))"
      ],
      "metadata": {
        "id": "vFOy6Yqq8Gai"
      },
      "execution_count": null,
      "outputs": []
    },
    {
      "cell_type": "markdown",
      "source": [
        "## Spliting"
      ],
      "metadata": {
        "id": "NLdpRuRh6wIm"
      }
    },
    {
      "cell_type": "code",
      "source": [
        "# split to 0.8 and 0.2\n",
        "food_train, food_test = train_test_split(food_train, train_size=0.80, shuffle=True, random_state=1)\n",
        "user_train, user_test = train_test_split(user_train, train_size=0.80, shuffle=True, random_state=1)\n",
        "y_train, y_test       = train_test_split(y_train,    train_size=0.80, shuffle=True, random_state=1)"
      ],
      "metadata": {
        "id": "AVjSHeyJ5QI0"
      },
      "execution_count": null,
      "outputs": []
    },
    {
      "cell_type": "markdown",
      "source": [
        "# Neural Network; Content-based filtering"
      ],
      "metadata": {
        "id": "VMlGdPIK7CZu"
      }
    },
    {
      "cell_type": "markdown",
      "source": [
        "## Model"
      ],
      "metadata": {
        "id": "nnzXrHwL7dFy"
      }
    },
    {
      "cell_type": "code",
      "source": [
        "num_outputs = 10\n",
        "num_user_features = user_train.shape[1]\n",
        "num_item_features = food_train.shape[1]\n",
        "\n",
        "tf.random.set_seed(1)\n",
        "user_NN = tf.keras.models.Sequential([\n",
        "    ### START CODE HERE ###\n",
        "  tf.keras.layers.Dense(256,activation='relu'),\n",
        "  tf.keras.layers.Dense(128,activation='relu'),\n",
        "  tf.keras.layers.Dense(num_outputs)\n",
        "    ### END CODE HERE ###\n",
        "])\n",
        "\n",
        "item_NN = tf.keras.models.Sequential([\n",
        "    ### START CODE HERE ###\n",
        "  tf.keras.layers.Dense(256,activation='relu'),\n",
        "  tf.keras.layers.Dense(128,activation='relu'),\n",
        "  tf.keras.layers.Dense(num_outputs)\n",
        "    ### END CODE HERE ###\n",
        "])\n",
        "\n",
        "# create the user input and point to the base network\n",
        "input_user = tf.keras.layers.Input(shape=(num_user_features))\n",
        "vu = user_NN(input_user)\n",
        "vu = tf.linalg.l2_normalize(vu, axis=1)\n",
        "\n",
        "# create the item input and point to the base network\n",
        "input_item = tf.keras.layers.Input(shape=(num_item_features))\n",
        "vm = item_NN(input_item)\n",
        "vm = tf.linalg.l2_normalize(vm, axis=1)\n",
        "\n",
        "# compute the dot product of the two vectors vu and vm\n",
        "output = tf.keras.layers.Dot(axes=1)([vu, vm])\n",
        "\n",
        "# specify the inputs and output of the model\n",
        "model = tf.keras.Model([input_user, input_item], output)\n",
        "\n",
        "model.summary()"
      ],
      "metadata": {
        "id": "QjetOuJH7JNJ"
      },
      "execution_count": null,
      "outputs": []
    },
    {
      "cell_type": "markdown",
      "source": [
        "## Compile & Fit"
      ],
      "metadata": {
        "id": "Yw5gFkXR7fgb"
      }
    },
    {
      "cell_type": "code",
      "source": [
        "tf.random.set_seed(1)\n",
        "cost_fn = tf.keras.losses.MeanSquaredError()\n",
        "opt = keras.optimizers.Adam(learning_rate=0.01)\n",
        "model.compile(optimizer=opt,\n",
        "              loss=cost_fn)"
      ],
      "metadata": {
        "id": "VZpw8AgHITiS"
      },
      "execution_count": null,
      "outputs": []
    },
    {
      "cell_type": "code",
      "source": [
        "tf.random.set_seed(1)\n",
        "model.fit([user_train, food_train], y_train, epochs=30)"
      ],
      "metadata": {
        "id": "jKwd8cVYIUMH"
      },
      "execution_count": null,
      "outputs": []
    },
    {
      "cell_type": "code",
      "source": [
        "model.evaluate([user_test, food_test], y_test)"
      ],
      "metadata": {
        "id": "3RNEYLu9Ibto"
      },
      "execution_count": null,
      "outputs": []
    }
  ]
}